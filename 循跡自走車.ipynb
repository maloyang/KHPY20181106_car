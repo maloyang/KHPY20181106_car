{
 "cells": [
  {
   "cell_type": "markdown",
   "metadata": {},
   "source": [
    "# 自走車3 - 循跡自走車\n",
    "\n",
    "使用IR循黑線走\n",
    "\n",
    "----\n"
   ]
  },
  {
   "cell_type": "code",
   "execution_count": 19,
   "metadata": {
    "scrolled": true
   },
   "outputs": [
    {
     "name": "stdout",
     "output_type": "stream",
     "text": [
      "Sent 129 lines (2699 bytes) to main.py.\n"
     ]
    }
   ],
   "source": [
    "%sendtofile main.py\n",
    "\n",
    "# 定義\n",
    "import machine\n",
    "from machine import Pin\n",
    "from machine import PWM\n",
    "import time\n",
    "\n",
    "# PIN Define:\n",
    "D0 = 16\n",
    "D1 = 5  #PWM\n",
    "D2 = 4  #PWM\n",
    "D3 = 0  #PWM\n",
    "D4 = 2  #PWM, #Led on board\n",
    "D5 = 14 #PWM\n",
    "D6 = 12 #PWM\n",
    "D7 = 13 #PWM\n",
    "D8 = 15 #PWM\n",
    "\n",
    "ang0=40 #逆時針\n",
    "ang90=77 #停止\n",
    "ang180=115 #順時針\n",
    "\n",
    "# ir\n",
    "IrR = Pin(D1, Pin.IN)\n",
    "IrL = Pin(D2, Pin.IN)\n",
    "\n",
    "#Setup PINS\n",
    "servoR = PWM(Pin(D5), freq=50)\n",
    "servoL = PWM(Pin(D6), freq=50)\n",
    "\n",
    "def car_fwd():\n",
    "    servoL.duty(ang180) #往前轉\n",
    "    servoR.duty(ang0)   #往前轉\n",
    "\n",
    "def car_rev():\n",
    "    servoL.duty(ang0)   #往後轉\n",
    "    servoR.duty(ang180) #往後轉\n",
    "\n",
    "def car_stop():\n",
    "    servoL.duty(ang90)\n",
    "    servoR.duty(ang90)\n",
    "\n",
    "\n",
    "def car_right():\n",
    "    servoL.duty(ang180) #往前轉\n",
    "    servoR.duty(ang90)\n",
    "    \n",
    "def car_left():\n",
    "    servoL.duty(ang90)\n",
    "    servoR.duty(ang0)\n",
    "\n",
    "def car_right2():\n",
    "    servoL.duty(ang180) #往前轉\n",
    "    servoR.duty(ang180) #往後轉\n",
    "    \n",
    "def car_left2():\n",
    "    servoL.duty(ang0)  #往後轉\n",
    "    servoR.duty(ang0)  #往前轉\n",
    "    \n",
    "    \n",
    "# go~\n",
    "car_fwd()\n",
    "\n",
    "while(True):\n",
    "\n",
    "    if(IrR.value()==1): # 右邊踩黑線\n",
    "        car_right()\n",
    "    elif(IrL.value()==1): # 左邊踩黑線\n",
    "        car_left()\n",
    "    else:\n",
    "        car_fwd()\n",
    "        \n",
    "    time.sleep(0.1)"
   ]
  },
  {
   "cell_type": "markdown",
   "metadata": {},
   "source": [
    "---------------\n"
   ]
  },
  {
   "cell_type": "markdown",
   "metadata": {},
   "source": []
  }
 ],
 "metadata": {
  "kernelspec": {
   "display_name": "MicroPython - USB",
   "language": "micropython",
   "name": "micropython"
  },
  "language_info": {
   "codemirror_mode": "python",
   "file_extension": ".py",
   "mimetype": "text/python",
   "name": "micropython"
  }
 },
 "nbformat": 4,
 "nbformat_minor": 2
}
